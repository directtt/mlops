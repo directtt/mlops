{
 "cells": [
  {
   "cell_type": "code",
   "execution_count": 1,
   "id": "0b41006b",
   "metadata": {
    "ExecuteTime": {
     "end_time": "2023-04-30T17:02:10.867724Z",
     "start_time": "2023-04-30T17:02:10.744727Z"
    }
   },
   "outputs": [],
   "source": [
    "import sys\n",
    "sys.path.append(\"../\")\n",
    "\n",
    "from tracking import create_project, get_project, set_active_project\n",
    "from tracking import create_experiment, get_experiment\n",
    "\n",
    "%load_ext autoreload\n",
    "%autoreload 2"
   ]
  },
  {
   "cell_type": "code",
   "execution_count": 2,
   "id": "49e1e89b",
   "metadata": {
    "ExecuteTime": {
     "end_time": "2023-04-30T17:02:13.057500Z",
     "start_time": "2023-04-30T17:02:13.015497Z"
    },
    "scrolled": true
   },
   "outputs": [
    {
     "data": {
      "text/plain": [
       "{'_id': '644e9f15ed31037fe9fbd5ae',\n",
       " 'title': 'My first library ',\n",
       " 'description': 'Mt first project :)',\n",
       " 'status': 'in_progress',\n",
       " 'archived': False,\n",
       " 'created_at': '2023-04-30T19:02:13.046501',\n",
       " 'updated_at': '2023-04-30T19:02:13.048496',\n",
       " 'experiments': []}"
      ]
     },
     "execution_count": 2,
     "metadata": {},
     "output_type": "execute_result"
    }
   ],
   "source": [
    "project = create_project(title=\"My first library \", description=\"Mt first project :)\", status='in_progress')\n",
    "project"
   ]
  },
  {
   "cell_type": "code",
   "execution_count": 3,
   "id": "af4d4bec",
   "metadata": {
    "ExecuteTime": {
     "end_time": "2023-04-30T17:02:17.923759Z",
     "start_time": "2023-04-30T17:02:17.884761Z"
    },
    "scrolled": true
   },
   "outputs": [
    {
     "data": {
      "text/plain": [
       "{'_id': '644e9f15ed31037fe9fbd5ae',\n",
       " 'title': 'My first library ',\n",
       " 'description': 'Mt first project :)',\n",
       " 'status': 'in_progress',\n",
       " 'archived': False,\n",
       " 'created_at': '2023-04-30T19:02:13.046000',\n",
       " 'updated_at': '2023-04-30T19:02:13.048000',\n",
       " 'experiments': []}"
      ]
     },
     "execution_count": 3,
     "metadata": {},
     "output_type": "execute_result"
    }
   ],
   "source": [
    "set_active_project(project_id=project['_id'])"
   ]
  },
  {
   "cell_type": "code",
   "execution_count": 4,
   "id": "2d792a9a",
   "metadata": {
    "ExecuteTime": {
     "end_time": "2023-04-30T17:02:52.337113Z",
     "start_time": "2023-04-30T17:02:52.287116Z"
    }
   },
   "outputs": [
    {
     "data": {
      "text/plain": [
       "{'_id': '644e9f15ed31037fe9fbd5ae',\n",
       " 'title': 'My first library ',\n",
       " 'description': 'Mt first project :)',\n",
       " 'status': 'in_progress',\n",
       " 'archived': False,\n",
       " 'created_at': '2023-04-30T19:02:13.046000',\n",
       " 'updated_at': '2023-04-30T19:02:13.048000',\n",
       " 'experiments': []}"
      ]
     },
     "execution_count": 4,
     "metadata": {},
     "output_type": "execute_result"
    }
   ],
   "source": [
    "get_project()"
   ]
  },
  {
   "cell_type": "code",
   "execution_count": 5,
   "id": "a8c3156c",
   "metadata": {
    "ExecuteTime": {
     "end_time": "2023-04-30T17:02:56.083156Z",
     "start_time": "2023-04-30T17:02:56.043157Z"
    }
   },
   "outputs": [
    {
     "data": {
      "text/plain": [
       "{'id': '644e9f40ed31037fe9fbd5af',\n",
       " 'name': 'EDA',\n",
       " 'description': 'Exploratory data analysis',\n",
       " 'created_at': '2023-04-30T19:02:56.073159',\n",
       " 'updated_at': '2023-04-30T19:02:56.073159'}"
      ]
     },
     "execution_count": 5,
     "metadata": {},
     "output_type": "execute_result"
    }
   ],
   "source": [
    "create_experiment(name=\"EDA\",\n",
    "                  description=\"Exploratory data analysis\")"
   ]
  },
  {
   "cell_type": "code",
   "execution_count": 6,
   "id": "f949c280",
   "metadata": {
    "ExecuteTime": {
     "end_time": "2023-04-30T17:03:02.502388Z",
     "start_time": "2023-04-30T17:03:02.464876Z"
    }
   },
   "outputs": [
    {
     "data": {
      "text/plain": [
       "{'id': '644e9f40ed31037fe9fbd5af',\n",
       " 'name': 'EDA',\n",
       " 'description': 'Exploratory data analysis',\n",
       " 'created_at': '2023-04-30T19:02:56.073000',\n",
       " 'updated_at': '2023-04-30T19:02:56.073000'}"
      ]
     },
     "execution_count": 6,
     "metadata": {},
     "output_type": "execute_result"
    }
   ],
   "source": [
    "get_experiment('644e9f40ed31037fe9fbd5af')"
   ]
  },
  {
   "cell_type": "code",
   "execution_count": 7,
   "id": "3f1fbb20",
   "metadata": {
    "ExecuteTime": {
     "end_time": "2023-04-30T17:03:07.483723Z",
     "start_time": "2023-04-30T17:03:07.442727Z"
    }
   },
   "outputs": [
    {
     "data": {
      "text/plain": [
       "{'id': '644e9f4bed31037fe9fbd5b0',\n",
       " 'name': 'EDA 2',\n",
       " 'description': None,\n",
       " 'created_at': '2023-04-30T19:03:07.473725',\n",
       " 'updated_at': '2023-04-30T19:03:07.473725'}"
      ]
     },
     "execution_count": 7,
     "metadata": {},
     "output_type": "execute_result"
    }
   ],
   "source": [
    "create_experiment(name=\"EDA 2\")"
   ]
  },
  {
   "cell_type": "code",
   "execution_count": null,
   "id": "c4e090d9",
   "metadata": {},
   "outputs": [],
   "source": []
  }
 ],
 "metadata": {
  "kernelspec": {
   "display_name": "Python 3 (ipykernel)",
   "language": "python",
   "name": "python3"
  },
  "language_info": {
   "codemirror_mode": {
    "name": "ipython",
    "version": 3
   },
   "file_extension": ".py",
   "mimetype": "text/x-python",
   "name": "python",
   "nbconvert_exporter": "python",
   "pygments_lexer": "ipython3",
   "version": "3.9.16"
  },
  "toc": {
   "base_numbering": 1,
   "nav_menu": {},
   "number_sections": true,
   "sideBar": true,
   "skip_h1_title": false,
   "title_cell": "Table of Contents",
   "title_sidebar": "Contents",
   "toc_cell": false,
   "toc_position": {},
   "toc_section_display": true,
   "toc_window_display": false
  }
 },
 "nbformat": 4,
 "nbformat_minor": 5
}
