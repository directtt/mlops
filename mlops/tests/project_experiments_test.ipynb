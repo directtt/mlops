{
 "cells": [
  {
   "cell_type": "code",
   "execution_count": 1,
   "id": "0b41006b",
   "metadata": {
    "ExecuteTime": {
     "end_time": "2023-04-28T08:11:03.502548Z",
     "start_time": "2023-04-28T08:11:03.369508Z"
    }
   },
   "outputs": [],
   "source": [
    "import sys\n",
    "sys.path.append(\"../\")\n",
    "\n",
    "from tracking import create_project, get_project\n",
    "from tracking import create_experiment, get_experiment\n",
    "\n",
    "%load_ext autoreload\n",
    "%autoreload 2"
   ]
  },
  {
   "cell_type": "code",
   "execution_count": 2,
   "id": "49e1e89b",
   "metadata": {
    "ExecuteTime": {
     "end_time": "2023-04-28T08:11:04.083158Z",
     "start_time": "2023-04-28T08:11:04.041152Z"
    }
   },
   "outputs": [
    {
     "data": {
      "text/plain": [
       "{'_id': '644b7f9824c296487a67ff88',\n",
       " 'title': 'My first library project',\n",
       " 'description': None,\n",
       " 'status': 'not_started',\n",
       " 'archived': False,\n",
       " 'created_at': '2023-04-28T10:11:04',\n",
       " 'updated_at': '2023-04-28T10:11:04.076150',\n",
       " 'experiments': []}"
      ]
     },
     "execution_count": 2,
     "metadata": {},
     "output_type": "execute_result"
    }
   ],
   "source": [
    "project = create_project(project_title=\"My first library project\")\n",
    "project"
   ]
  },
  {
   "cell_type": "code",
   "execution_count": 3,
   "id": "2d792a9a",
   "metadata": {
    "ExecuteTime": {
     "end_time": "2023-04-28T08:11:05.441834Z",
     "start_time": "2023-04-28T08:11:05.401318Z"
    }
   },
   "outputs": [
    {
     "data": {
      "text/plain": [
       "{'_id': '644b7f9824c296487a67ff88',\n",
       " 'title': 'My first library project',\n",
       " 'description': None,\n",
       " 'status': 'not_started',\n",
       " 'archived': False,\n",
       " 'created_at': '2023-04-28T10:11:04',\n",
       " 'updated_at': '2023-04-28T10:11:04.076000',\n",
       " 'experiments': []}"
      ]
     },
     "execution_count": 3,
     "metadata": {},
     "output_type": "execute_result"
    }
   ],
   "source": [
    "get_project(project['_id'])"
   ]
  },
  {
   "cell_type": "code",
   "execution_count": 4,
   "id": "a8c3156c",
   "metadata": {
    "ExecuteTime": {
     "end_time": "2023-04-28T08:11:06.036508Z",
     "start_time": "2023-04-28T08:11:05.984991Z"
    }
   },
   "outputs": [
    {
     "data": {
      "text/plain": [
       "{'id': '644b7f9a24c296487a67ff89',\n",
       " 'name': 'EDA',\n",
       " 'description': 'Exploratory data analysis',\n",
       " 'created_at': '2023-04-28T10:11:06',\n",
       " 'updated_at': '2023-04-28T10:11:06.020508'}"
      ]
     },
     "execution_count": 4,
     "metadata": {},
     "output_type": "execute_result"
    }
   ],
   "source": [
    "create_experiment(project_id=project['_id'],\n",
    "                  experiment_name=\"EDA\",\n",
    "                  experiment_description=\"Exploratory data analysis\")"
   ]
  },
  {
   "cell_type": "code",
   "execution_count": 5,
   "id": "5e5d7540",
   "metadata": {
    "ExecuteTime": {
     "end_time": "2023-04-28T08:11:06.397120Z",
     "start_time": "2023-04-28T08:11:06.345604Z"
    },
    "scrolled": true
   },
   "outputs": [
    {
     "data": {
      "text/plain": [
       "{'_id': '644b7f9a24c296487a67ff8a',\n",
       " 'title': 'TEST',\n",
       " 'description': None,\n",
       " 'status': 'not_started',\n",
       " 'archived': False,\n",
       " 'created_at': '2023-04-28T10:11:06.380607',\n",
       " 'updated_at': '2023-04-28T10:11:06.381604',\n",
       " 'experiments': []}"
      ]
     },
     "execution_count": 5,
     "metadata": {},
     "output_type": "execute_result"
    }
   ],
   "source": [
    "import requests\n",
    "\n",
    "data = {\n",
    "        \"title\": \"TEST\"\n",
    "    }\n",
    "\n",
    "app_response = requests.post(f\"http://127.0.0.1:8000/projects/\", json=data)\n",
    "app_response.json()"
   ]
  },
  {
   "cell_type": "code",
   "execution_count": null,
   "id": "f949c280",
   "metadata": {},
   "outputs": [],
   "source": []
  }
 ],
 "metadata": {
  "kernelspec": {
   "display_name": "Python 3 (ipykernel)",
   "language": "python",
   "name": "python3"
  },
  "language_info": {
   "codemirror_mode": {
    "name": "ipython",
    "version": 3
   },
   "file_extension": ".py",
   "mimetype": "text/x-python",
   "name": "python",
   "nbconvert_exporter": "python",
   "pygments_lexer": "ipython3",
   "version": "3.9.16"
  },
  "toc": {
   "base_numbering": 1,
   "nav_menu": {},
   "number_sections": true,
   "sideBar": true,
   "skip_h1_title": false,
   "title_cell": "Table of Contents",
   "title_sidebar": "Contents",
   "toc_cell": false,
   "toc_position": {},
   "toc_section_display": true,
   "toc_window_display": false
  }
 },
 "nbformat": 4,
 "nbformat_minor": 5
}
