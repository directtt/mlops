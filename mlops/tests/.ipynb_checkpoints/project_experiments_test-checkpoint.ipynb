{
 "cells": [
  {
   "cell_type": "code",
   "execution_count": null,
   "id": "0b41006b",
   "metadata": {
    "ExecuteTime": {
     "end_time": "2023-04-28T07:30:53.842824Z",
     "start_time": "2023-04-28T07:30:53.799318Z"
    }
   },
   "outputs": [],
   "source": [
    "import sys\n",
    "sys.path.append(\"../\")\n",
    "\n",
    "%load_ext autoreload\n",
    "%autoreload 2"
   ]
  },
  {
   "cell_type": "code",
   "execution_count": null,
   "id": "49e1e89b",
   "metadata": {
    "ExecuteTime": {
     "end_time": "2023-04-28T07:30:56.020465Z",
     "start_time": "2023-04-28T07:30:53.845829Z"
    }
   },
   "outputs": [],
   "source": [
    "from tracking import create_project\n",
    "\n",
    "project = create_project(project_title=\"My first library project\")\n",
    "project"
   ]
  },
  {
   "cell_type": "code",
   "execution_count": null,
   "id": "2d792a9a",
   "metadata": {
    "ExecuteTime": {
     "end_time": "2023-04-28T07:30:58.098614Z",
     "start_time": "2023-04-28T07:30:56.023465Z"
    }
   },
   "outputs": [],
   "source": [
    "from tracking import get_project\n",
    "\n",
    "get_project(project['_id'])"
   ]
  },
  {
   "cell_type": "code",
   "execution_count": null,
   "id": "a8c3156c",
   "metadata": {
    "ExecuteTime": {
     "end_time": "2023-04-28T07:31:00.170798Z",
     "start_time": "2023-04-28T07:30:58.100619Z"
    }
   },
   "outputs": [],
   "source": [
    "from tracking import create_experiment\n",
    "\n",
    "create_experiment(project_id=project['_id'],\n",
    "                  experiment_name=\"EDA\",\n",
    "                  experiment_description=\"Exploratory data analysis\")"
   ]
  },
  {
   "cell_type": "code",
   "execution_count": null,
   "id": "5e5d7540",
   "metadata": {},
   "outputs": [],
   "source": []
  }
 ],
 "metadata": {
  "kernelspec": {
   "display_name": "Python 3 (ipykernel)",
   "language": "python",
   "name": "python3"
  },
  "language_info": {
   "codemirror_mode": {
    "name": "ipython",
    "version": 3
   },
   "file_extension": ".py",
   "mimetype": "text/x-python",
   "name": "python",
   "nbconvert_exporter": "python",
   "pygments_lexer": "ipython3",
   "version": "3.9.16"
  },
  "toc": {
   "base_numbering": 1,
   "nav_menu": {},
   "number_sections": true,
   "sideBar": true,
   "skip_h1_title": false,
   "title_cell": "Table of Contents",
   "title_sidebar": "Contents",
   "toc_cell": false,
   "toc_position": {},
   "toc_section_display": true,
   "toc_window_display": false
  }
 },
 "nbformat": 4,
 "nbformat_minor": 5
}
