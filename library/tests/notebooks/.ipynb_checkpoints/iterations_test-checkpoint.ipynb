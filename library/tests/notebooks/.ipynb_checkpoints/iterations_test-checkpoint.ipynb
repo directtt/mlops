{
 "cells": [
  {
   "cell_type": "code",
   "execution_count": 3,
   "id": "80778138",
   "metadata": {
    "ExecuteTime": {
     "end_time": "2023-05-03T13:36:26.904515Z",
     "start_time": "2023-05-03T13:36:26.865517Z"
    }
   },
   "outputs": [
    {
     "name": "stdout",
     "output_type": "stream",
     "text": [
      "The autoreload extension is already loaded. To reload it, use:\n",
      "  %reload_ext autoreload\n"
     ]
    }
   ],
   "source": [
    "import sys\n",
    "sys.path.append(\"../../\")\n",
    "\n",
    "%load_ext autoreload\n",
    "%autoreload 2\n",
    "\n",
    "from mlops.tracking import create_project, create_experiment, set_active_experiment, set_active_project, start_iteration"
   ]
  },
  {
   "cell_type": "code",
   "execution_count": 4,
   "id": "cf1b5b67",
   "metadata": {
    "ExecuteTime": {
     "end_time": "2023-05-03T13:36:27.786214Z",
     "start_time": "2023-05-03T13:36:27.740697Z"
    }
   },
   "outputs": [
    {
     "data": {
      "text/plain": [
       "{'_id': '6452635b6576d02527786b06',\n",
       " 'title': 'Iteration test',\n",
       " 'description': 'Iteration test :)',\n",
       " 'status': 'in_progress',\n",
       " 'archived': False,\n",
       " 'created_at': '2023-05-03T15:36:27.773219',\n",
       " 'updated_at': '2023-05-03T15:36:27.775216',\n",
       " 'experiments': []}"
      ]
     },
     "execution_count": 4,
     "metadata": {},
     "output_type": "execute_result"
    }
   ],
   "source": [
    "project = create_project(title=\"Iteration test\", description=\"Iteration test :)\", status='in_progress')\n",
    "project"
   ]
  },
  {
   "cell_type": "code",
   "execution_count": 5,
   "id": "bbf02c6b",
   "metadata": {
    "ExecuteTime": {
     "end_time": "2023-05-03T13:36:28.941196Z",
     "start_time": "2023-05-03T13:36:28.901195Z"
    }
   },
   "outputs": [
    {
     "data": {
      "text/plain": [
       "{'_id': '6452635b6576d02527786b06',\n",
       " 'title': 'Iteration test',\n",
       " 'description': 'Iteration test :)',\n",
       " 'status': 'in_progress',\n",
       " 'archived': False,\n",
       " 'created_at': '2023-05-03T15:36:27.773000',\n",
       " 'updated_at': '2023-05-03T15:36:27.775000',\n",
       " 'experiments': []}"
      ]
     },
     "execution_count": 5,
     "metadata": {},
     "output_type": "execute_result"
    }
   ],
   "source": [
    "set_active_project(project['_id'])"
   ]
  },
  {
   "cell_type": "code",
   "execution_count": 6,
   "id": "266bb827",
   "metadata": {
    "ExecuteTime": {
     "end_time": "2023-05-03T13:36:30.437651Z",
     "start_time": "2023-05-03T13:36:30.392637Z"
    }
   },
   "outputs": [],
   "source": [
    "experiment = create_experiment(name=\"EDA v1\",\n",
    "                               description=\"Exploratory data analysis\")"
   ]
  },
  {
   "cell_type": "code",
   "execution_count": 7,
   "id": "9aae9597",
   "metadata": {
    "ExecuteTime": {
     "end_time": "2023-05-03T13:36:31.998057Z",
     "start_time": "2023-05-03T13:36:31.951639Z"
    }
   },
   "outputs": [
    {
     "data": {
      "text/plain": [
       "{'id': '6452635e6576d02527786b07',\n",
       " 'name': 'EDA v1',\n",
       " 'description': 'Exploratory data analysis',\n",
       " 'created_at': '2023-05-03T15:36:30.422000',\n",
       " 'updated_at': '2023-05-03T15:36:30.422000',\n",
       " 'iterations': []}"
      ]
     },
     "execution_count": 7,
     "metadata": {},
     "output_type": "execute_result"
    }
   ],
   "source": [
    "set_active_experiment(experiment['id'])"
   ]
  },
  {
   "cell_type": "code",
   "execution_count": 13,
   "id": "5b510bb1",
   "metadata": {
    "ExecuteTime": {
     "end_time": "2023-05-03T13:39:50.431805Z",
     "start_time": "2023-05-03T13:39:50.395291Z"
    }
   },
   "outputs": [
    {
     "name": "stdout",
     "output_type": "stream",
     "text": [
      "{'user_name': 'jedryb', 'iteration_name': 'First iteration!', 'metrics': {'RMSE': 0.25}, 'parameters': {'n_estimators': 150}, 'path_to_model': '', 'model_name': 'Random Forest'}\n"
     ]
    }
   ],
   "source": [
    "with start_iteration(\"First iteration!\") as iteration:\n",
    "    iteration.log_parameter(\"n_estimators\", 150)\n",
    "    iteration.log_metric(\"RMSE\", 0.25)\n",
    "    iteration.log_model_name(\"Random Forest\")"
   ]
  },
  {
   "cell_type": "code",
   "execution_count": null,
   "id": "f607acb8",
   "metadata": {},
   "outputs": [],
   "source": []
  }
 ],
 "metadata": {
  "kernelspec": {
   "display_name": "Python 3 (ipykernel)",
   "language": "python",
   "name": "python3"
  },
  "language_info": {
   "codemirror_mode": {
    "name": "ipython",
    "version": 3
   },
   "file_extension": ".py",
   "mimetype": "text/x-python",
   "name": "python",
   "nbconvert_exporter": "python",
   "pygments_lexer": "ipython3",
   "version": "3.9.16"
  },
  "toc": {
   "base_numbering": 1,
   "nav_menu": {},
   "number_sections": true,
   "sideBar": true,
   "skip_h1_title": false,
   "title_cell": "Table of Contents",
   "title_sidebar": "Contents",
   "toc_cell": false,
   "toc_position": {},
   "toc_section_display": true,
   "toc_window_display": false
  }
 },
 "nbformat": 4,
 "nbformat_minor": 5
}
