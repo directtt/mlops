{
 "cells": [
  {
   "cell_type": "code",
   "execution_count": 8,
   "id": "0b41006b",
   "metadata": {
    "ExecuteTime": {
     "end_time": "2023-05-03T13:36:08.146595Z",
     "start_time": "2023-05-03T13:36:08.105436Z"
    }
   },
   "outputs": [
    {
     "name": "stdout",
     "output_type": "stream",
     "text": [
      "The autoreload extension is already loaded. To reload it, use:\n",
      "  %reload_ext autoreload\n"
     ]
    }
   ],
   "source": [
    "import sys\n",
    "sys.path.append(\"../../\")\n",
    "\n",
    "from mlops.tracking import create_project, get_project, set_active_project\n",
    "from mlops.tracking import create_experiment, get_experiment, set_active_experiment\n",
    "from mlops.tracking import settings\n",
    "\n",
    "%load_ext autoreload\n",
    "%autoreload 2"
   ]
  },
  {
   "cell_type": "code",
   "execution_count": 9,
   "id": "49e1e89b",
   "metadata": {
    "ExecuteTime": {
     "end_time": "2023-05-03T13:36:08.762997Z",
     "start_time": "2023-05-03T13:36:08.714474Z"
    },
    "scrolled": true
   },
   "outputs": [
    {
     "data": {
      "text/plain": [
       "{'_id': '645263486576d02527786b04',\n",
       " 'title': 'My first library',\n",
       " 'description': 'Mt first project :)',\n",
       " 'status': 'in_progress',\n",
       " 'archived': False,\n",
       " 'created_at': '2023-05-03T15:36:08.744998',\n",
       " 'updated_at': '2023-05-03T15:36:08.746000',\n",
       " 'experiments': []}"
      ]
     },
     "execution_count": 9,
     "metadata": {},
     "output_type": "execute_result"
    }
   ],
   "source": [
    "project = create_project(title=\"My first library\", description=\"Mt first project :)\", status='in_progress')\n",
    "project"
   ]
  },
  {
   "cell_type": "code",
   "execution_count": 10,
   "id": "af4d4bec",
   "metadata": {
    "ExecuteTime": {
     "end_time": "2023-05-03T13:36:09.253276Z",
     "start_time": "2023-05-03T13:36:09.206759Z"
    },
    "scrolled": false
   },
   "outputs": [
    {
     "data": {
      "text/plain": [
       "{'_id': '645263486576d02527786b04',\n",
       " 'title': 'My first library',\n",
       " 'description': 'Mt first project :)',\n",
       " 'status': 'in_progress',\n",
       " 'archived': False,\n",
       " 'created_at': '2023-05-03T15:36:08.744000',\n",
       " 'updated_at': '2023-05-03T15:36:08.746000',\n",
       " 'experiments': []}"
      ]
     },
     "execution_count": 10,
     "metadata": {},
     "output_type": "execute_result"
    }
   ],
   "source": [
    "set_active_project(project_id=project['_id'])"
   ]
  },
  {
   "cell_type": "code",
   "execution_count": 4,
   "id": "f55af54e",
   "metadata": {
    "ExecuteTime": {
     "end_time": "2023-05-03T13:21:23.377002Z",
     "start_time": "2023-05-03T13:21:23.363006Z"
    },
    "scrolled": true
   },
   "outputs": [
    {
     "data": {
      "text/plain": [
       "'645246d46576d02527786af8'"
      ]
     },
     "execution_count": 4,
     "metadata": {},
     "output_type": "execute_result"
    }
   ],
   "source": [
    "from mlops.config.config import settings\n",
    "\n",
    "settings.active_project_id"
   ]
  },
  {
   "cell_type": "code",
   "execution_count": 11,
   "id": "2d792a9a",
   "metadata": {
    "ExecuteTime": {
     "end_time": "2023-05-03T13:36:09.691404Z",
     "start_time": "2023-05-03T13:36:09.644406Z"
    }
   },
   "outputs": [
    {
     "data": {
      "text/plain": [
       "{'_id': '645263486576d02527786b04',\n",
       " 'title': 'My first library',\n",
       " 'description': 'Mt first project :)',\n",
       " 'status': 'in_progress',\n",
       " 'archived': False,\n",
       " 'created_at': '2023-05-03T15:36:08.744000',\n",
       " 'updated_at': '2023-05-03T15:36:08.746000',\n",
       " 'experiments': []}"
      ]
     },
     "execution_count": 11,
     "metadata": {},
     "output_type": "execute_result"
    }
   ],
   "source": [
    "from mlops.tracking import get_project\n",
    "\n",
    "get_project()"
   ]
  },
  {
   "cell_type": "code",
   "execution_count": 12,
   "id": "a8c3156c",
   "metadata": {
    "ExecuteTime": {
     "end_time": "2023-05-03T13:36:10.147999Z",
     "start_time": "2023-05-03T13:36:10.099475Z"
    }
   },
   "outputs": [],
   "source": [
    "experiment = create_experiment(name=\"EDA v1\",\n",
    "                               description=\"Exploratory data analysis\")"
   ]
  },
  {
   "cell_type": "code",
   "execution_count": 13,
   "id": "5d874ed3",
   "metadata": {
    "ExecuteTime": {
     "end_time": "2023-05-03T13:36:10.657863Z",
     "start_time": "2023-05-03T13:36:10.603643Z"
    }
   },
   "outputs": [
    {
     "data": {
      "text/plain": [
       "{'id': '6452634a6576d02527786b05',\n",
       " 'name': 'EDA v1',\n",
       " 'description': 'Exploratory data analysis',\n",
       " 'created_at': '2023-05-03T15:36:10.135000',\n",
       " 'updated_at': '2023-05-03T15:36:10.135000',\n",
       " 'iterations': []}"
      ]
     },
     "execution_count": 13,
     "metadata": {},
     "output_type": "execute_result"
    }
   ],
   "source": [
    "set_active_experiment(experiment['id'])"
   ]
  },
  {
   "cell_type": "code",
   "execution_count": 14,
   "id": "f949c280",
   "metadata": {
    "ExecuteTime": {
     "end_time": "2023-05-03T13:36:11.129930Z",
     "start_time": "2023-05-03T13:36:11.087925Z"
    }
   },
   "outputs": [
    {
     "data": {
      "text/plain": [
       "{'id': '6452634a6576d02527786b05',\n",
       " 'name': 'EDA v1',\n",
       " 'description': 'Exploratory data analysis',\n",
       " 'created_at': '2023-05-03T15:36:10.135000',\n",
       " 'updated_at': '2023-05-03T15:36:10.135000',\n",
       " 'iterations': []}"
      ]
     },
     "execution_count": 14,
     "metadata": {},
     "output_type": "execute_result"
    }
   ],
   "source": [
    "get_experiment()"
   ]
  },
  {
   "cell_type": "code",
   "execution_count": 7,
   "id": "3f1fbb20",
   "metadata": {
    "ExecuteTime": {
     "end_time": "2023-04-30T17:03:07.483723Z",
     "start_time": "2023-04-30T17:03:07.442727Z"
    }
   },
   "outputs": [
    {
     "data": {
      "text/plain": [
       "{'id': '644e9f4bed31037fe9fbd5b0',\n",
       " 'name': 'EDA 2',\n",
       " 'description': None,\n",
       " 'created_at': '2023-04-30T19:03:07.473725',\n",
       " 'updated_at': '2023-04-30T19:03:07.473725'}"
      ]
     },
     "execution_count": 7,
     "metadata": {},
     "output_type": "execute_result"
    }
   ],
   "source": [
    "create_experiment(name=\"EDA 2\")"
   ]
  }
 ],
 "metadata": {
  "kernelspec": {
   "display_name": "Python 3 (ipykernel)",
   "language": "python",
   "name": "python3"
  },
  "language_info": {
   "codemirror_mode": {
    "name": "ipython",
    "version": 3
   },
   "file_extension": ".py",
   "mimetype": "text/x-python",
   "name": "python",
   "nbconvert_exporter": "python",
   "pygments_lexer": "ipython3",
   "version": "3.9.16"
  },
  "toc": {
   "base_numbering": 1,
   "nav_menu": {},
   "number_sections": true,
   "sideBar": true,
   "skip_h1_title": false,
   "title_cell": "Table of Contents",
   "title_sidebar": "Contents",
   "toc_cell": false,
   "toc_position": {},
   "toc_section_display": true,
   "toc_window_display": false
  }
 },
 "nbformat": 4,
 "nbformat_minor": 5
}
