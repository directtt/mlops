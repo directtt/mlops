{
 "cells": [
  {
   "cell_type": "code",
   "execution_count": 1,
   "id": "740e6317",
   "metadata": {
    "ExecuteTime": {
     "end_time": "2023-06-05T16:07:44.402413Z",
     "start_time": "2023-06-05T16:07:44.226106Z"
    }
   },
   "outputs": [],
   "source": [
    "import sys\n",
    "sys.path.append(\"../../\")\n",
    "\n",
    "%load_ext autoreload\n",
    "%autoreload 2\n",
    "\n",
    "from mlops.tracking import set_active_experiment, set_active_project, get_project_by_name, get_experiment_by_name\n",
    "from mlops.tracking import start_iteration"
   ]
  },
  {
   "cell_type": "markdown",
   "id": "a4922271",
   "metadata": {},
   "source": [
    "## Get project & experiment and set as active"
   ]
  },
  {
   "cell_type": "code",
   "execution_count": 2,
   "id": "2892b26b",
   "metadata": {
    "ExecuteTime": {
     "end_time": "2023-06-05T16:07:46.110778Z",
     "start_time": "2023-06-05T16:07:46.054268Z"
    }
   },
   "outputs": [
    {
     "data": {
      "text/plain": [
       "'Active project set to: 647df4575d2a5b74d50b47d3'"
      ]
     },
     "execution_count": 2,
     "metadata": {},
     "output_type": "execute_result"
    }
   ],
   "source": [
    "project = get_project_by_name('My first library project')\n",
    "set_active_project(project['_id'])"
   ]
  },
  {
   "cell_type": "code",
   "execution_count": 3,
   "id": "9649acdf",
   "metadata": {
    "ExecuteTime": {
     "end_time": "2023-06-05T16:07:46.359434Z",
     "start_time": "2023-06-05T16:07:46.307434Z"
    }
   },
   "outputs": [
    {
     "data": {
      "text/plain": [
       "'Active experiment set to: 647df4705d2a5b74d50b47d4'"
      ]
     },
     "execution_count": 3,
     "metadata": {},
     "output_type": "execute_result"
    }
   ],
   "source": [
    "experiment = get_experiment_by_name('Experiment v1')\n",
    "set_active_experiment(experiment['id'])"
   ]
  },
  {
   "cell_type": "markdown",
   "id": "958c990d",
   "metadata": {},
   "source": [
    "## Log iteration with interactive chart"
   ]
  },
  {
   "cell_type": "code",
   "execution_count": null,
   "id": "aaa3ca6b",
   "metadata": {},
   "outputs": [],
   "source": []
  },
  {
   "cell_type": "markdown",
   "id": "873e5666",
   "metadata": {},
   "source": [
    "## Log iteration with image chart"
   ]
  },
  {
   "cell_type": "code",
   "execution_count": 4,
   "id": "9a5c2569",
   "metadata": {
    "ExecuteTime": {
     "end_time": "2023-06-05T16:07:49.677009Z",
     "start_time": "2023-06-05T16:07:49.625967Z"
    }
   },
   "outputs": [],
   "source": [
    "with start_iteration(\"First iteration.\") as iteration:\n",
    "    iteration.log_parameter(\"n_estimators\", 150)\n",
    "    iteration.log_metric(\"RMSE\", 0.9)\n",
    "    iteration.log_model_name(\"Random Forest\")\n",
    "    iteration.log_path_to_model(r\"C:/Users/jedryb/Desktop/inz.txt\")\n",
    "    iteration.log_image_chart(name=\"Image chart 1\", \n",
    "                              image_path='../test_files/test_image_chart.png')"
   ]
  },
  {
   "cell_type": "code",
   "execution_count": null,
   "id": "3ea30619",
   "metadata": {},
   "outputs": [],
   "source": []
  }
 ],
 "metadata": {
  "kernelspec": {
   "display_name": "Python 3 (ipykernel)",
   "language": "python",
   "name": "python3"
  },
  "language_info": {
   "codemirror_mode": {
    "name": "ipython",
    "version": 3
   },
   "file_extension": ".py",
   "mimetype": "text/x-python",
   "name": "python",
   "nbconvert_exporter": "python",
   "pygments_lexer": "ipython3",
   "version": "3.9.16"
  },
  "toc": {
   "base_numbering": 1,
   "nav_menu": {},
   "number_sections": false,
   "sideBar": true,
   "skip_h1_title": false,
   "title_cell": "Table of Contents",
   "title_sidebar": "Contents",
   "toc_cell": false,
   "toc_position": {},
   "toc_section_display": true,
   "toc_window_display": true
  }
 },
 "nbformat": 4,
 "nbformat_minor": 5
}
